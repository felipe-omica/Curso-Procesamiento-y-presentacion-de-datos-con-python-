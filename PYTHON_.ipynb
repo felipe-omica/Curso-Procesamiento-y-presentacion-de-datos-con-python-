{
  "nbformat": 4,
  "nbformat_minor": 0,
  "metadata": {
    "colab": {
      "provenance": []
    },
    "kernelspec": {
      "name": "python3",
      "display_name": "Python 3"
    },
    "language_info": {
      "name": "python"
    }
  },
  "cells": [
    {
      "cell_type": "markdown",
      "source": [
        "# PROCESAMIENTO Y PRESENTACION DE DATOS CON PYTHON\n",
        "\n",
        "---\n",
        "\n",
        "\n",
        "\n",
        "---\n",
        "\n",
        "\n",
        "## Lic. Felipe Rodriguez Gaxiola "
      ],
      "metadata": {
        "id": "iCleWRh53-PS"
      }
    },
    {
      "cell_type": "markdown",
      "source": [
        "# I"
      ],
      "metadata": {
        "id": "1pGaTtUVSsiR"
      }
    },
    {
      "cell_type": "code",
      "source": [
        "\n"
      ],
      "metadata": {
        "id": "_rZFNtEk8XAW"
      },
      "execution_count": 1,
      "outputs": []
    },
    {
      "cell_type": "markdown",
      "source": [
        "##**Tipo de datos**"
      ],
      "metadata": {
        "id": "wcvsRT2qf3YB"
      }
    },
    {
      "cell_type": "code",
      "source": [
        "#Enteros\n",
        "Juan = 591  \n",
        "Pablo= 273\n",
        "\n",
        "#flotantes (decimales)\n",
        "Maria= 312.543\n",
        "\n",
        "#datos string o de cadena caracteres\n",
        "texto= 'Hola CID '\n",
        "\n",
        "Cochinito= '1259.34'\n",
        "\n",
        "##Pistas##\n",
        "#redifinir variables\n",
        "#usar funcion type()\n",
        "\n"
      ],
      "metadata": {
        "id": "ND41E3Zk9rjU"
      },
      "execution_count": 5,
      "outputs": []
    },
    {
      "cell_type": "code",
      "source": [
        "##RESTAR (JUAN LE DEBE $ 35,34 Y LE TIENE QUE PAGAR )\n",
        "\n"
      ],
      "metadata": {
        "id": "Mo6ZQsMmg6Lz"
      },
      "execution_count": null,
      "outputs": []
    },
    {
      "cell_type": "code",
      "source": [
        "## SUMAR (Juan y Pablo colocan todos sus ahorros en el cochito )\n"
      ],
      "metadata": {
        "id": "IlnoRYjogo2A"
      },
      "execution_count": null,
      "outputs": []
    },
    {
      "cell_type": "code",
      "source": [
        "#Porcentaje (cuanto tendria el cochito si cada uno de ellos hubiera donado el 47.6% de sus ahorros en el cochito )\n"
      ],
      "metadata": {
        "id": "xMPeQ_N8hAcl"
      },
      "execution_count": null,
      "outputs": []
    },
    {
      "cell_type": "code",
      "source": [
        "#Cuanto dinero tendria Juan, pablo y Maria  si juntaran sus ahorros dividieran el dinero equitativamente?\n",
        "\n"
      ],
      "metadata": {
        "id": "Xb27BGYSiFUT"
      },
      "execution_count": null,
      "outputs": []
    },
    {
      "cell_type": "markdown",
      "source": [
        "##LISTAS Y TUPLAS\n"
      ],
      "metadata": {
        "id": "DnBgxVGXkvaa"
      }
    },
    {
      "cell_type": "code",
      "source": [
        "calificaciones = [10,9,8,7.5,9]\n",
        "nombres = [\"Ana\",\"Juan\",\"Sofía\",\"Pablo\",\"Tania\"]"
      ],
      "metadata": {
        "id": "oDxwWE67lCej"
      },
      "execution_count": 32,
      "outputs": []
    },
    {
      "cell_type": "code",
      "source": [
        "#Agregar\n",
        "nombres.append(\"Ximena\")\n",
        "\n",
        "#Agregar calificacion 7 a Ximena\n",
        "\n",
        "\n",
        "\n",
        "\n",
        "print(calificaciones,nombres)"
      ],
      "metadata": {
        "colab": {
          "base_uri": "https://localhost:8080/"
        },
        "id": "TzatrhYklWN-",
        "outputId": "31b7d797-3d29-44ad-8f57-1768acaab7cf"
      },
      "execution_count": 33,
      "outputs": [
        {
          "output_type": "stream",
          "name": "stdout",
          "text": [
            "[10, 9, 8, 7.5, 9] ['Ana', 'Juan', 'Sofía', 'Pablo', 'Tania', 'Ximena']\n"
          ]
        }
      ]
    },
    {
      "cell_type": "code",
      "source": [],
      "metadata": {
        "id": "X6vhCJYutWpy"
      },
      "execution_count": null,
      "outputs": []
    },
    {
      "cell_type": "code",
      "source": [
        "#OBTENER CALIFICACION DE Pablo\n",
        "indice=nombres.index('Pablo')\n",
        "#calificacion_juan=calificaciones[indice]\n",
        "#calificacion_juan"
      ],
      "metadata": {
        "id": "kzvANUcctW8q"
      },
      "execution_count": null,
      "outputs": []
    },
    {
      "cell_type": "code",
      "source": [
        "indice=nombres.index('Ximena')\n",
        "calificacion=calificaciones[indice]\n",
        "calificacion_juan"
      ],
      "metadata": {
        "colab": {
          "base_uri": "https://localhost:8080/"
        },
        "id": "hIvX1y7Vlalk",
        "outputId": "7afbaf54-7949-4c01-b044-950cb99bad59"
      },
      "execution_count": 24,
      "outputs": [
        {
          "output_type": "execute_result",
          "data": {
            "text/plain": [
              "10"
            ]
          },
          "metadata": {},
          "execution_count": 24
        }
      ]
    },
    {
      "cell_type": "code",
      "source": [
        "#obtener calificacion sofia\n",
        "\n"
      ],
      "metadata": {
        "id": "l1N9QyYOlbBB"
      },
      "execution_count": null,
      "outputs": []
    },
    {
      "cell_type": "code",
      "source": [
        "#Acabas de incluirte al grupo , la profe te reprobo , Hackea su lista y ponte la calificacion que te \"mereces\", (cualquier solucion es valida, ponte creativo) \n",
        "\n",
        "\n",
        "\n",
        "\n",
        "\n",
        "\n",
        "\n"
      ],
      "metadata": {
        "colab": {
          "base_uri": "https://localhost:8080/"
        },
        "id": "OoLGQD-iuMVG",
        "outputId": "95eae8d5-8487-4c42-daa7-72751a55d054"
      },
      "execution_count": 37,
      "outputs": [
        {
          "output_type": "stream",
          "name": "stdout",
          "text": [
            "0\n",
            "[9, 9, 8, 7.5, 9]\n"
          ]
        }
      ]
    },
    {
      "cell_type": "markdown",
      "source": [
        "##**Tuplas**"
      ],
      "metadata": {
        "id": "S91_2haMt194"
      }
    },
    {
      "cell_type": "code",
      "source": [],
      "metadata": {
        "id": "h7E8qK1pt9w7"
      },
      "execution_count": null,
      "outputs": []
    },
    {
      "cell_type": "code",
      "source": [
        "calificaciones = (5,5,5,5.5,5)\n",
        "nombres = [\"Ana\",\"Juan\",\"Sofía\",\"Pablo\",\"Tania\"]"
      ],
      "metadata": {
        "id": "pGtTu2eOuLR8"
      },
      "execution_count": 39,
      "outputs": []
    },
    {
      "cell_type": "code",
      "source": [
        "#El profe soy yo y reprobe a todos, intenta salvar a todos \n",
        "\n"
      ],
      "metadata": {
        "id": "61MuK8PBt1fi"
      },
      "execution_count": 42,
      "outputs": []
    },
    {
      "cell_type": "markdown",
      "source": [],
      "metadata": {
        "id": "5JFGwC7Sx4FP"
      }
    },
    {
      "cell_type": "markdown",
      "source": [
        "##**Visualisacion de archivos**"
      ],
      "metadata": {
        "id": "SAX8m8rUdMIH"
      }
    },
    {
      "cell_type": "markdown",
      "source": [
        "# **Cargar librerias**\n",
        "\n",
        "\n"
      ],
      "metadata": {
        "id": "rU7QvxMq9-jo"
      }
    },
    {
      "cell_type": "code",
      "source": [
        "##Importar datos \n",
        "#Dirigete al siguiente link y descarga el repositorio \n",
        "#cargue el archivo dengue en google colab\n",
        "import pandas as pd\n",
        "data = pd.read_csv(\"./Dengue.tsv\")\n",
        "data\n"
      ],
      "metadata": {
        "colab": {
          "base_uri": "https://localhost:8080/",
          "height": 423
        },
        "id": "rCuYDMjcdMIU",
        "outputId": "b989ab3f-a5a3-4576-d5b2-ddf76d7c615a"
      },
      "execution_count": 70,
      "outputs": [
        {
          "output_type": "execute_result",
          "data": {
            "text/plain": [
              "      IEDB_ID Epitope_Sequence Protein_Names   Host  Dengue_type  \\\n",
              "0        1063        AELTGYGTV             C  Human            2   \n",
              "1      195230  DYMPVMKRYSAPSES             C  Human            3   \n",
              "2      195476  IDLDPVVYDAKFEKQ             C  Human            3   \n",
              "3      195499  ILAKAIFKLTYQNKV             C  Human            3   \n",
              "4      195501  ILIRTGLLVISGVFP             C  Human            2   \n",
              "...       ...              ...           ...    ...          ...   \n",
              "2149   867025  GVFQENVFHTMWHVT           NS5  Human            4   \n",
              "2150   540064  VNGVVRLLTKPWDVI           NS5  Human            4   \n",
              "2151   180806       VSSVNMVSRL           NS5  Human            4   \n",
              "2152   419048       SPRLCTREEF           NS5  Human            4   \n",
              "2153   869083  SYAQMWTLMYFHRRD           NS5  Human            4   \n",
              "\n",
              "     Assay_Type_Category  Antigenicity  \n",
              "0            MHC_Binding          3.35  \n",
              "1            MHC_Binding          3.40  \n",
              "2            MHC_Binding          3.41  \n",
              "3            MHC_Binding          3.16  \n",
              "4            MHC_Binding          3.46  \n",
              "...                  ...           ...  \n",
              "2149              T_Cell          4.53  \n",
              "2150              T_Cell          4.55  \n",
              "2151              T_Cell          4.71  \n",
              "2152              T_Cell          5.02  \n",
              "2153              T_Cell          5.34  \n",
              "\n",
              "[2154 rows x 7 columns]"
            ],
            "text/html": [
              "\n",
              "  <div id=\"df-19742025-d062-422f-8117-ed7a8808cd44\">\n",
              "    <div class=\"colab-df-container\">\n",
              "      <div>\n",
              "<style scoped>\n",
              "    .dataframe tbody tr th:only-of-type {\n",
              "        vertical-align: middle;\n",
              "    }\n",
              "\n",
              "    .dataframe tbody tr th {\n",
              "        vertical-align: top;\n",
              "    }\n",
              "\n",
              "    .dataframe thead th {\n",
              "        text-align: right;\n",
              "    }\n",
              "</style>\n",
              "<table border=\"1\" class=\"dataframe\">\n",
              "  <thead>\n",
              "    <tr style=\"text-align: right;\">\n",
              "      <th></th>\n",
              "      <th>IEDB_ID</th>\n",
              "      <th>Epitope_Sequence</th>\n",
              "      <th>Protein_Names</th>\n",
              "      <th>Host</th>\n",
              "      <th>Dengue_type</th>\n",
              "      <th>Assay_Type_Category</th>\n",
              "      <th>Antigenicity</th>\n",
              "    </tr>\n",
              "  </thead>\n",
              "  <tbody>\n",
              "    <tr>\n",
              "      <th>0</th>\n",
              "      <td>1063</td>\n",
              "      <td>AELTGYGTV</td>\n",
              "      <td>C</td>\n",
              "      <td>Human</td>\n",
              "      <td>2</td>\n",
              "      <td>MHC_Binding</td>\n",
              "      <td>3.35</td>\n",
              "    </tr>\n",
              "    <tr>\n",
              "      <th>1</th>\n",
              "      <td>195230</td>\n",
              "      <td>DYMPVMKRYSAPSES</td>\n",
              "      <td>C</td>\n",
              "      <td>Human</td>\n",
              "      <td>3</td>\n",
              "      <td>MHC_Binding</td>\n",
              "      <td>3.40</td>\n",
              "    </tr>\n",
              "    <tr>\n",
              "      <th>2</th>\n",
              "      <td>195476</td>\n",
              "      <td>IDLDPVVYDAKFEKQ</td>\n",
              "      <td>C</td>\n",
              "      <td>Human</td>\n",
              "      <td>3</td>\n",
              "      <td>MHC_Binding</td>\n",
              "      <td>3.41</td>\n",
              "    </tr>\n",
              "    <tr>\n",
              "      <th>3</th>\n",
              "      <td>195499</td>\n",
              "      <td>ILAKAIFKLTYQNKV</td>\n",
              "      <td>C</td>\n",
              "      <td>Human</td>\n",
              "      <td>3</td>\n",
              "      <td>MHC_Binding</td>\n",
              "      <td>3.16</td>\n",
              "    </tr>\n",
              "    <tr>\n",
              "      <th>4</th>\n",
              "      <td>195501</td>\n",
              "      <td>ILIRTGLLVISGVFP</td>\n",
              "      <td>C</td>\n",
              "      <td>Human</td>\n",
              "      <td>2</td>\n",
              "      <td>MHC_Binding</td>\n",
              "      <td>3.46</td>\n",
              "    </tr>\n",
              "    <tr>\n",
              "      <th>...</th>\n",
              "      <td>...</td>\n",
              "      <td>...</td>\n",
              "      <td>...</td>\n",
              "      <td>...</td>\n",
              "      <td>...</td>\n",
              "      <td>...</td>\n",
              "      <td>...</td>\n",
              "    </tr>\n",
              "    <tr>\n",
              "      <th>2149</th>\n",
              "      <td>867025</td>\n",
              "      <td>GVFQENVFHTMWHVT</td>\n",
              "      <td>NS5</td>\n",
              "      <td>Human</td>\n",
              "      <td>4</td>\n",
              "      <td>T_Cell</td>\n",
              "      <td>4.53</td>\n",
              "    </tr>\n",
              "    <tr>\n",
              "      <th>2150</th>\n",
              "      <td>540064</td>\n",
              "      <td>VNGVVRLLTKPWDVI</td>\n",
              "      <td>NS5</td>\n",
              "      <td>Human</td>\n",
              "      <td>4</td>\n",
              "      <td>T_Cell</td>\n",
              "      <td>4.55</td>\n",
              "    </tr>\n",
              "    <tr>\n",
              "      <th>2151</th>\n",
              "      <td>180806</td>\n",
              "      <td>VSSVNMVSRL</td>\n",
              "      <td>NS5</td>\n",
              "      <td>Human</td>\n",
              "      <td>4</td>\n",
              "      <td>T_Cell</td>\n",
              "      <td>4.71</td>\n",
              "    </tr>\n",
              "    <tr>\n",
              "      <th>2152</th>\n",
              "      <td>419048</td>\n",
              "      <td>SPRLCTREEF</td>\n",
              "      <td>NS5</td>\n",
              "      <td>Human</td>\n",
              "      <td>4</td>\n",
              "      <td>T_Cell</td>\n",
              "      <td>5.02</td>\n",
              "    </tr>\n",
              "    <tr>\n",
              "      <th>2153</th>\n",
              "      <td>869083</td>\n",
              "      <td>SYAQMWTLMYFHRRD</td>\n",
              "      <td>NS5</td>\n",
              "      <td>Human</td>\n",
              "      <td>4</td>\n",
              "      <td>T_Cell</td>\n",
              "      <td>5.34</td>\n",
              "    </tr>\n",
              "  </tbody>\n",
              "</table>\n",
              "<p>2154 rows × 7 columns</p>\n",
              "</div>\n",
              "      <button class=\"colab-df-convert\" onclick=\"convertToInteractive('df-19742025-d062-422f-8117-ed7a8808cd44')\"\n",
              "              title=\"Convert this dataframe to an interactive table.\"\n",
              "              style=\"display:none;\">\n",
              "        \n",
              "  <svg xmlns=\"http://www.w3.org/2000/svg\" height=\"24px\"viewBox=\"0 0 24 24\"\n",
              "       width=\"24px\">\n",
              "    <path d=\"M0 0h24v24H0V0z\" fill=\"none\"/>\n",
              "    <path d=\"M18.56 5.44l.94 2.06.94-2.06 2.06-.94-2.06-.94-.94-2.06-.94 2.06-2.06.94zm-11 1L8.5 8.5l.94-2.06 2.06-.94-2.06-.94L8.5 2.5l-.94 2.06-2.06.94zm10 10l.94 2.06.94-2.06 2.06-.94-2.06-.94-.94-2.06-.94 2.06-2.06.94z\"/><path d=\"M17.41 7.96l-1.37-1.37c-.4-.4-.92-.59-1.43-.59-.52 0-1.04.2-1.43.59L10.3 9.45l-7.72 7.72c-.78.78-.78 2.05 0 2.83L4 21.41c.39.39.9.59 1.41.59.51 0 1.02-.2 1.41-.59l7.78-7.78 2.81-2.81c.8-.78.8-2.07 0-2.86zM5.41 20L4 18.59l7.72-7.72 1.47 1.35L5.41 20z\"/>\n",
              "  </svg>\n",
              "      </button>\n",
              "      \n",
              "  <style>\n",
              "    .colab-df-container {\n",
              "      display:flex;\n",
              "      flex-wrap:wrap;\n",
              "      gap: 12px;\n",
              "    }\n",
              "\n",
              "    .colab-df-convert {\n",
              "      background-color: #E8F0FE;\n",
              "      border: none;\n",
              "      border-radius: 50%;\n",
              "      cursor: pointer;\n",
              "      display: none;\n",
              "      fill: #1967D2;\n",
              "      height: 32px;\n",
              "      padding: 0 0 0 0;\n",
              "      width: 32px;\n",
              "    }\n",
              "\n",
              "    .colab-df-convert:hover {\n",
              "      background-color: #E2EBFA;\n",
              "      box-shadow: 0px 1px 2px rgba(60, 64, 67, 0.3), 0px 1px 3px 1px rgba(60, 64, 67, 0.15);\n",
              "      fill: #174EA6;\n",
              "    }\n",
              "\n",
              "    [theme=dark] .colab-df-convert {\n",
              "      background-color: #3B4455;\n",
              "      fill: #D2E3FC;\n",
              "    }\n",
              "\n",
              "    [theme=dark] .colab-df-convert:hover {\n",
              "      background-color: #434B5C;\n",
              "      box-shadow: 0px 1px 3px 1px rgba(0, 0, 0, 0.15);\n",
              "      filter: drop-shadow(0px 1px 2px rgba(0, 0, 0, 0.3));\n",
              "      fill: #FFFFFF;\n",
              "    }\n",
              "  </style>\n",
              "\n",
              "      <script>\n",
              "        const buttonEl =\n",
              "          document.querySelector('#df-19742025-d062-422f-8117-ed7a8808cd44 button.colab-df-convert');\n",
              "        buttonEl.style.display =\n",
              "          google.colab.kernel.accessAllowed ? 'block' : 'none';\n",
              "\n",
              "        async function convertToInteractive(key) {\n",
              "          const element = document.querySelector('#df-19742025-d062-422f-8117-ed7a8808cd44');\n",
              "          const dataTable =\n",
              "            await google.colab.kernel.invokeFunction('convertToInteractive',\n",
              "                                                     [key], {});\n",
              "          if (!dataTable) return;\n",
              "\n",
              "          const docLinkHtml = 'Like what you see? Visit the ' +\n",
              "            '<a target=\"_blank\" href=https://colab.research.google.com/notebooks/data_table.ipynb>data table notebook</a>'\n",
              "            + ' to learn more about interactive tables.';\n",
              "          element.innerHTML = '';\n",
              "          dataTable['output_type'] = 'display_data';\n",
              "          await google.colab.output.renderOutput(dataTable, element);\n",
              "          const docLink = document.createElement('div');\n",
              "          docLink.innerHTML = docLinkHtml;\n",
              "          element.appendChild(docLink);\n",
              "        }\n",
              "      </script>\n",
              "    </div>\n",
              "  </div>\n",
              "  "
            ]
          },
          "metadata": {},
          "execution_count": 70
        }
      ]
    },
    {
      "cell_type": "markdown",
      "source": [
        "##**Tipos de archivos**"
      ],
      "metadata": {
        "id": "w72S_uCeeojy"
      }
    },
    {
      "cell_type": "code",
      "source": [
        "#import datos con definiendo delimitador\n",
        "import pandas as ps\n",
        "data = pd.read_csv(\"./Dengue.csv\", delimiter= ':')\n",
        "\n",
        "da"
      ],
      "metadata": {
        "id": "0D_KLcaXeKAs"
      },
      "execution_count": null,
      "outputs": []
    },
    {
      "cell_type": "markdown",
      "source": [
        "##TABLAS Y DATAFRAMES"
      ],
      "metadata": {
        "id": "urEvAXrb44rC"
      }
    },
    {
      "cell_type": "markdown",
      "source": [
        "# Analisis data basico\n"
      ],
      "metadata": {
        "id": "OEMRTsM5GSA8"
      }
    },
    {
      "cell_type": "code",
      "source": [
        "data"
      ],
      "metadata": {
        "id": "41Oxteg_3ClF"
      },
      "execution_count": null,
      "outputs": []
    },
    {
      "cell_type": "code",
      "source": [
        "#Dimensiones \n",
        "\n",
        "data.shape"
      ],
      "metadata": {
        "colab": {
          "base_uri": "https://localhost:8080/"
        },
        "id": "KATOVPJ_2Jeb",
        "outputId": "e98032e3-ac68-4f15-812c-b65f7d80b3fe"
      },
      "execution_count": 47,
      "outputs": [
        {
          "output_type": "execute_result",
          "data": {
            "text/plain": [
              "(2320, 7)"
            ]
          },
          "metadata": {},
          "execution_count": 47
        }
      ]
    },
    {
      "cell_type": "code",
      "source": [
        "#Imprime la columna Antigenicit\n",
        "data['Antigenicity']\n"
      ],
      "metadata": {
        "colab": {
          "base_uri": "https://localhost:8080/"
        },
        "id": "HChLFzul2Jch",
        "outputId": "1344638c-1c64-4596-f388-4931a2ea04e9"
      },
      "execution_count": 63,
      "outputs": [
        {
          "output_type": "execute_result",
          "data": {
            "text/plain": [
              "0         4.003\n",
              "1         3.078\n",
              "2         4.233\n",
              "3       361.000\n",
              "4         1.209\n",
              "         ...   \n",
              "2315      5.790\n",
              "2316      5.032\n",
              "2317      2.097\n",
              "2318     23.000\n",
              "2319      1.380\n",
              "Name: Antigenicity, Length: 2320, dtype: float64"
            ]
          },
          "metadata": {},
          "execution_count": 63
        }
      ]
    },
    {
      "cell_type": "code",
      "source": [
        "#imprime el tercer numero de la columna antigenicidad\n",
        "data['Antigenicty'][]\n"
      ],
      "metadata": {
        "id": "okzEfNsP5_gh"
      },
      "execution_count": null,
      "outputs": []
    },
    {
      "cell_type": "code",
      "source": [
        "#imprime el ultimo numero de la columna antigenicidad\n",
        "data['Antigenicity'][]\n",
        "\n",
        "\n",
        "\n",
        "\n",
        "#soluciona este error con las funciones anteriormentes presetnadas y mencionalo al grupo \n",
        "\n",
        "#iloc[[1]]"
      ],
      "metadata": {
        "id": "6gt-DLxL5_c3"
      },
      "execution_count": null,
      "outputs": []
    },
    {
      "cell_type": "code",
      "source": [
        "\n"
      ],
      "metadata": {
        "id": "3lFgtF_L6VTy"
      },
      "execution_count": null,
      "outputs": []
    },
    {
      "cell_type": "code",
      "source": [
        "#promedio \n",
        "data[\"Antigenicity\"].mean()"
      ],
      "metadata": {
        "colab": {
          "base_uri": "https://localhost:8080/"
        },
        "id": "e6oOXvqS6VBH",
        "outputId": "82795222-35a8-4195-86ed-2d1726b7f299"
      },
      "execution_count": 72,
      "outputs": [
        {
          "output_type": "execute_result",
          "data": {
            "text/plain": [
              "3.3445821727019496"
            ]
          },
          "metadata": {},
          "execution_count": 72
        }
      ]
    },
    {
      "cell_type": "code",
      "source": [
        "#maximo \n",
        "data[\"Antigenicity\"].max()"
      ],
      "metadata": {
        "colab": {
          "base_uri": "https://localhost:8080/"
        },
        "id": "xi4eFFmD2Jab",
        "outputId": "a148af2b-6c7c-4fe9-8832-c79a3bd0c796"
      },
      "execution_count": 75,
      "outputs": [
        {
          "output_type": "execute_result",
          "data": {
            "text/plain": [
              "6.0"
            ]
          },
          "metadata": {},
          "execution_count": 75
        }
      ]
    },
    {
      "cell_type": "code",
      "source": [
        "#minimo\n",
        "data[\"Antigenicity\"].max()"
      ],
      "metadata": {
        "id": "zAXtSxUT2JYY"
      },
      "execution_count": null,
      "outputs": []
    },
    {
      "cell_type": "code",
      "source": [
        "data.describe()"
      ],
      "metadata": {
        "colab": {
          "base_uri": "https://localhost:8080/",
          "height": 300
        },
        "id": "W3dofynz2JWH",
        "outputId": "985e2f09-b7f9-42fb-d2d8-5e7644b20502"
      },
      "execution_count": 76,
      "outputs": [
        {
          "output_type": "execute_result",
          "data": {
            "text/plain": [
              "            IEDB_ID  Dengue_type  Antigenicity\n",
              "count  2.154000e+03  2154.000000   2154.000000\n",
              "mean   3.155487e+05     2.413185      3.344582\n",
              "std    2.619426e+05     1.127346      1.685492\n",
              "min    3.900000e+01     1.000000      0.010000\n",
              "25%    1.808085e+05     1.000000      2.045000\n",
              "50%    1.954375e+05     2.000000      3.250000\n",
              "75%    5.391640e+05     3.000000      4.757500\n",
              "max    1.068332e+06     4.000000      6.000000"
            ],
            "text/html": [
              "\n",
              "  <div id=\"df-dc3441ab-f2cb-4804-8873-6b8ad34aa3e5\">\n",
              "    <div class=\"colab-df-container\">\n",
              "      <div>\n",
              "<style scoped>\n",
              "    .dataframe tbody tr th:only-of-type {\n",
              "        vertical-align: middle;\n",
              "    }\n",
              "\n",
              "    .dataframe tbody tr th {\n",
              "        vertical-align: top;\n",
              "    }\n",
              "\n",
              "    .dataframe thead th {\n",
              "        text-align: right;\n",
              "    }\n",
              "</style>\n",
              "<table border=\"1\" class=\"dataframe\">\n",
              "  <thead>\n",
              "    <tr style=\"text-align: right;\">\n",
              "      <th></th>\n",
              "      <th>IEDB_ID</th>\n",
              "      <th>Dengue_type</th>\n",
              "      <th>Antigenicity</th>\n",
              "    </tr>\n",
              "  </thead>\n",
              "  <tbody>\n",
              "    <tr>\n",
              "      <th>count</th>\n",
              "      <td>2.154000e+03</td>\n",
              "      <td>2154.000000</td>\n",
              "      <td>2154.000000</td>\n",
              "    </tr>\n",
              "    <tr>\n",
              "      <th>mean</th>\n",
              "      <td>3.155487e+05</td>\n",
              "      <td>2.413185</td>\n",
              "      <td>3.344582</td>\n",
              "    </tr>\n",
              "    <tr>\n",
              "      <th>std</th>\n",
              "      <td>2.619426e+05</td>\n",
              "      <td>1.127346</td>\n",
              "      <td>1.685492</td>\n",
              "    </tr>\n",
              "    <tr>\n",
              "      <th>min</th>\n",
              "      <td>3.900000e+01</td>\n",
              "      <td>1.000000</td>\n",
              "      <td>0.010000</td>\n",
              "    </tr>\n",
              "    <tr>\n",
              "      <th>25%</th>\n",
              "      <td>1.808085e+05</td>\n",
              "      <td>1.000000</td>\n",
              "      <td>2.045000</td>\n",
              "    </tr>\n",
              "    <tr>\n",
              "      <th>50%</th>\n",
              "      <td>1.954375e+05</td>\n",
              "      <td>2.000000</td>\n",
              "      <td>3.250000</td>\n",
              "    </tr>\n",
              "    <tr>\n",
              "      <th>75%</th>\n",
              "      <td>5.391640e+05</td>\n",
              "      <td>3.000000</td>\n",
              "      <td>4.757500</td>\n",
              "    </tr>\n",
              "    <tr>\n",
              "      <th>max</th>\n",
              "      <td>1.068332e+06</td>\n",
              "      <td>4.000000</td>\n",
              "      <td>6.000000</td>\n",
              "    </tr>\n",
              "  </tbody>\n",
              "</table>\n",
              "</div>\n",
              "      <button class=\"colab-df-convert\" onclick=\"convertToInteractive('df-dc3441ab-f2cb-4804-8873-6b8ad34aa3e5')\"\n",
              "              title=\"Convert this dataframe to an interactive table.\"\n",
              "              style=\"display:none;\">\n",
              "        \n",
              "  <svg xmlns=\"http://www.w3.org/2000/svg\" height=\"24px\"viewBox=\"0 0 24 24\"\n",
              "       width=\"24px\">\n",
              "    <path d=\"M0 0h24v24H0V0z\" fill=\"none\"/>\n",
              "    <path d=\"M18.56 5.44l.94 2.06.94-2.06 2.06-.94-2.06-.94-.94-2.06-.94 2.06-2.06.94zm-11 1L8.5 8.5l.94-2.06 2.06-.94-2.06-.94L8.5 2.5l-.94 2.06-2.06.94zm10 10l.94 2.06.94-2.06 2.06-.94-2.06-.94-.94-2.06-.94 2.06-2.06.94z\"/><path d=\"M17.41 7.96l-1.37-1.37c-.4-.4-.92-.59-1.43-.59-.52 0-1.04.2-1.43.59L10.3 9.45l-7.72 7.72c-.78.78-.78 2.05 0 2.83L4 21.41c.39.39.9.59 1.41.59.51 0 1.02-.2 1.41-.59l7.78-7.78 2.81-2.81c.8-.78.8-2.07 0-2.86zM5.41 20L4 18.59l7.72-7.72 1.47 1.35L5.41 20z\"/>\n",
              "  </svg>\n",
              "      </button>\n",
              "      \n",
              "  <style>\n",
              "    .colab-df-container {\n",
              "      display:flex;\n",
              "      flex-wrap:wrap;\n",
              "      gap: 12px;\n",
              "    }\n",
              "\n",
              "    .colab-df-convert {\n",
              "      background-color: #E8F0FE;\n",
              "      border: none;\n",
              "      border-radius: 50%;\n",
              "      cursor: pointer;\n",
              "      display: none;\n",
              "      fill: #1967D2;\n",
              "      height: 32px;\n",
              "      padding: 0 0 0 0;\n",
              "      width: 32px;\n",
              "    }\n",
              "\n",
              "    .colab-df-convert:hover {\n",
              "      background-color: #E2EBFA;\n",
              "      box-shadow: 0px 1px 2px rgba(60, 64, 67, 0.3), 0px 1px 3px 1px rgba(60, 64, 67, 0.15);\n",
              "      fill: #174EA6;\n",
              "    }\n",
              "\n",
              "    [theme=dark] .colab-df-convert {\n",
              "      background-color: #3B4455;\n",
              "      fill: #D2E3FC;\n",
              "    }\n",
              "\n",
              "    [theme=dark] .colab-df-convert:hover {\n",
              "      background-color: #434B5C;\n",
              "      box-shadow: 0px 1px 3px 1px rgba(0, 0, 0, 0.15);\n",
              "      filter: drop-shadow(0px 1px 2px rgba(0, 0, 0, 0.3));\n",
              "      fill: #FFFFFF;\n",
              "    }\n",
              "  </style>\n",
              "\n",
              "      <script>\n",
              "        const buttonEl =\n",
              "          document.querySelector('#df-dc3441ab-f2cb-4804-8873-6b8ad34aa3e5 button.colab-df-convert');\n",
              "        buttonEl.style.display =\n",
              "          google.colab.kernel.accessAllowed ? 'block' : 'none';\n",
              "\n",
              "        async function convertToInteractive(key) {\n",
              "          const element = document.querySelector('#df-dc3441ab-f2cb-4804-8873-6b8ad34aa3e5');\n",
              "          const dataTable =\n",
              "            await google.colab.kernel.invokeFunction('convertToInteractive',\n",
              "                                                     [key], {});\n",
              "          if (!dataTable) return;\n",
              "\n",
              "          const docLinkHtml = 'Like what you see? Visit the ' +\n",
              "            '<a target=\"_blank\" href=https://colab.research.google.com/notebooks/data_table.ipynb>data table notebook</a>'\n",
              "            + ' to learn more about interactive tables.';\n",
              "          element.innerHTML = '';\n",
              "          dataTable['output_type'] = 'display_data';\n",
              "          await google.colab.output.renderOutput(dataTable, element);\n",
              "          const docLink = document.createElement('div');\n",
              "          docLink.innerHTML = docLinkHtml;\n",
              "          element.appendChild(docLink);\n",
              "        }\n",
              "      </script>\n",
              "    </div>\n",
              "  </div>\n",
              "  "
            ]
          },
          "metadata": {},
          "execution_count": 76
        }
      ]
    },
    {
      "cell_type": "markdown",
      "source": [
        "##**Ejercicio**"
      ],
      "metadata": {
        "id": "KEmCdbw8Ea8h"
      }
    },
    {
      "cell_type": "markdown",
      "source": [
        "Carga el archivo de antigenicidad.csv, con las funciones anteriormente mencionadas y decifra cual es el top 3 proteinas mas antigenicas y el top 3 menos antigenicas\n",
        "\n",
        "Mucha suerte :)\n"
      ],
      "metadata": {
        "id": "S9D5SCTWEfpt"
      }
    },
    {
      "cell_type": "code",
      "source": [
        "\n",
        "import pandas as pd\n",
        "data = pd.read_csv(\"./antigenicidad.tsv\")\n",
        "data\n",
        "\n"
      ],
      "metadata": {
        "colab": {
          "base_uri": "https://localhost:8080/",
          "height": 423
        },
        "id": "J-Tti0FP2JT4",
        "outputId": "1d47f325-1ec9-4b1a-b005-38d35a7f7a66"
      },
      "execution_count": 80,
      "outputs": [
        {
          "output_type": "execute_result",
          "data": {
            "text/plain": [
              "    Muestra  NS4b  NS2a     C     M     E   NS3   NS5  NS4a  NS2b   NS1\n",
              "0    NS1243  2.61  1.77  3.03  0.82  2.90  4.43  4.83  2.58  2.02  5.87\n",
              "1    NS1244  2.85  1.11  3.13  0.16  3.61  4.04  4.91  3.15  1.83  5.72\n",
              "2    NS1245  3.77  1.91  3.49  0.41  2.39  4.80  4.52  4.19  1.80  5.98\n",
              "3    NS1246  2.51  1.68  3.40  0.63  2.94  4.10  5.08  3.03  1.80  5.81\n",
              "4    NS1247  2.58  1.41  3.38  0.61  4.12  4.95  4.59  2.26  2.39  5.96\n",
              "..      ...   ...   ...   ...   ...   ...   ...   ...   ...   ...   ...\n",
              "127  NS1370  4.03  1.91  3.34  0.83  3.47  4.87  5.52  4.38  2.41  5.61\n",
              "128  NS1371  4.36  1.52  3.49  0.30  4.21  4.40  4.91  3.26  1.70  5.71\n",
              "129  NS1372  4.02  1.44  3.13  0.38  2.38  4.76  5.10  2.95  1.68  5.92\n",
              "130  NS1373  2.32  1.17  3.04  0.66  3.94  4.46  5.13  3.46  1.87  5.62\n",
              "131  NS1374  3.25  1.09  3.01  0.39  3.14  4.97  4.54  3.62  2.01  5.71\n",
              "\n",
              "[132 rows x 11 columns]"
            ],
            "text/html": [
              "\n",
              "  <div id=\"df-a942e4e1-a12d-4d8f-9605-bb26339e0b89\">\n",
              "    <div class=\"colab-df-container\">\n",
              "      <div>\n",
              "<style scoped>\n",
              "    .dataframe tbody tr th:only-of-type {\n",
              "        vertical-align: middle;\n",
              "    }\n",
              "\n",
              "    .dataframe tbody tr th {\n",
              "        vertical-align: top;\n",
              "    }\n",
              "\n",
              "    .dataframe thead th {\n",
              "        text-align: right;\n",
              "    }\n",
              "</style>\n",
              "<table border=\"1\" class=\"dataframe\">\n",
              "  <thead>\n",
              "    <tr style=\"text-align: right;\">\n",
              "      <th></th>\n",
              "      <th>Muestra</th>\n",
              "      <th>NS4b</th>\n",
              "      <th>NS2a</th>\n",
              "      <th>C</th>\n",
              "      <th>M</th>\n",
              "      <th>E</th>\n",
              "      <th>NS3</th>\n",
              "      <th>NS5</th>\n",
              "      <th>NS4a</th>\n",
              "      <th>NS2b</th>\n",
              "      <th>NS1</th>\n",
              "    </tr>\n",
              "  </thead>\n",
              "  <tbody>\n",
              "    <tr>\n",
              "      <th>0</th>\n",
              "      <td>NS1243</td>\n",
              "      <td>2.61</td>\n",
              "      <td>1.77</td>\n",
              "      <td>3.03</td>\n",
              "      <td>0.82</td>\n",
              "      <td>2.90</td>\n",
              "      <td>4.43</td>\n",
              "      <td>4.83</td>\n",
              "      <td>2.58</td>\n",
              "      <td>2.02</td>\n",
              "      <td>5.87</td>\n",
              "    </tr>\n",
              "    <tr>\n",
              "      <th>1</th>\n",
              "      <td>NS1244</td>\n",
              "      <td>2.85</td>\n",
              "      <td>1.11</td>\n",
              "      <td>3.13</td>\n",
              "      <td>0.16</td>\n",
              "      <td>3.61</td>\n",
              "      <td>4.04</td>\n",
              "      <td>4.91</td>\n",
              "      <td>3.15</td>\n",
              "      <td>1.83</td>\n",
              "      <td>5.72</td>\n",
              "    </tr>\n",
              "    <tr>\n",
              "      <th>2</th>\n",
              "      <td>NS1245</td>\n",
              "      <td>3.77</td>\n",
              "      <td>1.91</td>\n",
              "      <td>3.49</td>\n",
              "      <td>0.41</td>\n",
              "      <td>2.39</td>\n",
              "      <td>4.80</td>\n",
              "      <td>4.52</td>\n",
              "      <td>4.19</td>\n",
              "      <td>1.80</td>\n",
              "      <td>5.98</td>\n",
              "    </tr>\n",
              "    <tr>\n",
              "      <th>3</th>\n",
              "      <td>NS1246</td>\n",
              "      <td>2.51</td>\n",
              "      <td>1.68</td>\n",
              "      <td>3.40</td>\n",
              "      <td>0.63</td>\n",
              "      <td>2.94</td>\n",
              "      <td>4.10</td>\n",
              "      <td>5.08</td>\n",
              "      <td>3.03</td>\n",
              "      <td>1.80</td>\n",
              "      <td>5.81</td>\n",
              "    </tr>\n",
              "    <tr>\n",
              "      <th>4</th>\n",
              "      <td>NS1247</td>\n",
              "      <td>2.58</td>\n",
              "      <td>1.41</td>\n",
              "      <td>3.38</td>\n",
              "      <td>0.61</td>\n",
              "      <td>4.12</td>\n",
              "      <td>4.95</td>\n",
              "      <td>4.59</td>\n",
              "      <td>2.26</td>\n",
              "      <td>2.39</td>\n",
              "      <td>5.96</td>\n",
              "    </tr>\n",
              "    <tr>\n",
              "      <th>...</th>\n",
              "      <td>...</td>\n",
              "      <td>...</td>\n",
              "      <td>...</td>\n",
              "      <td>...</td>\n",
              "      <td>...</td>\n",
              "      <td>...</td>\n",
              "      <td>...</td>\n",
              "      <td>...</td>\n",
              "      <td>...</td>\n",
              "      <td>...</td>\n",
              "      <td>...</td>\n",
              "    </tr>\n",
              "    <tr>\n",
              "      <th>127</th>\n",
              "      <td>NS1370</td>\n",
              "      <td>4.03</td>\n",
              "      <td>1.91</td>\n",
              "      <td>3.34</td>\n",
              "      <td>0.83</td>\n",
              "      <td>3.47</td>\n",
              "      <td>4.87</td>\n",
              "      <td>5.52</td>\n",
              "      <td>4.38</td>\n",
              "      <td>2.41</td>\n",
              "      <td>5.61</td>\n",
              "    </tr>\n",
              "    <tr>\n",
              "      <th>128</th>\n",
              "      <td>NS1371</td>\n",
              "      <td>4.36</td>\n",
              "      <td>1.52</td>\n",
              "      <td>3.49</td>\n",
              "      <td>0.30</td>\n",
              "      <td>4.21</td>\n",
              "      <td>4.40</td>\n",
              "      <td>4.91</td>\n",
              "      <td>3.26</td>\n",
              "      <td>1.70</td>\n",
              "      <td>5.71</td>\n",
              "    </tr>\n",
              "    <tr>\n",
              "      <th>129</th>\n",
              "      <td>NS1372</td>\n",
              "      <td>4.02</td>\n",
              "      <td>1.44</td>\n",
              "      <td>3.13</td>\n",
              "      <td>0.38</td>\n",
              "      <td>2.38</td>\n",
              "      <td>4.76</td>\n",
              "      <td>5.10</td>\n",
              "      <td>2.95</td>\n",
              "      <td>1.68</td>\n",
              "      <td>5.92</td>\n",
              "    </tr>\n",
              "    <tr>\n",
              "      <th>130</th>\n",
              "      <td>NS1373</td>\n",
              "      <td>2.32</td>\n",
              "      <td>1.17</td>\n",
              "      <td>3.04</td>\n",
              "      <td>0.66</td>\n",
              "      <td>3.94</td>\n",
              "      <td>4.46</td>\n",
              "      <td>5.13</td>\n",
              "      <td>3.46</td>\n",
              "      <td>1.87</td>\n",
              "      <td>5.62</td>\n",
              "    </tr>\n",
              "    <tr>\n",
              "      <th>131</th>\n",
              "      <td>NS1374</td>\n",
              "      <td>3.25</td>\n",
              "      <td>1.09</td>\n",
              "      <td>3.01</td>\n",
              "      <td>0.39</td>\n",
              "      <td>3.14</td>\n",
              "      <td>4.97</td>\n",
              "      <td>4.54</td>\n",
              "      <td>3.62</td>\n",
              "      <td>2.01</td>\n",
              "      <td>5.71</td>\n",
              "    </tr>\n",
              "  </tbody>\n",
              "</table>\n",
              "<p>132 rows × 11 columns</p>\n",
              "</div>\n",
              "      <button class=\"colab-df-convert\" onclick=\"convertToInteractive('df-a942e4e1-a12d-4d8f-9605-bb26339e0b89')\"\n",
              "              title=\"Convert this dataframe to an interactive table.\"\n",
              "              style=\"display:none;\">\n",
              "        \n",
              "  <svg xmlns=\"http://www.w3.org/2000/svg\" height=\"24px\"viewBox=\"0 0 24 24\"\n",
              "       width=\"24px\">\n",
              "    <path d=\"M0 0h24v24H0V0z\" fill=\"none\"/>\n",
              "    <path d=\"M18.56 5.44l.94 2.06.94-2.06 2.06-.94-2.06-.94-.94-2.06-.94 2.06-2.06.94zm-11 1L8.5 8.5l.94-2.06 2.06-.94-2.06-.94L8.5 2.5l-.94 2.06-2.06.94zm10 10l.94 2.06.94-2.06 2.06-.94-2.06-.94-.94-2.06-.94 2.06-2.06.94z\"/><path d=\"M17.41 7.96l-1.37-1.37c-.4-.4-.92-.59-1.43-.59-.52 0-1.04.2-1.43.59L10.3 9.45l-7.72 7.72c-.78.78-.78 2.05 0 2.83L4 21.41c.39.39.9.59 1.41.59.51 0 1.02-.2 1.41-.59l7.78-7.78 2.81-2.81c.8-.78.8-2.07 0-2.86zM5.41 20L4 18.59l7.72-7.72 1.47 1.35L5.41 20z\"/>\n",
              "  </svg>\n",
              "      </button>\n",
              "      \n",
              "  <style>\n",
              "    .colab-df-container {\n",
              "      display:flex;\n",
              "      flex-wrap:wrap;\n",
              "      gap: 12px;\n",
              "    }\n",
              "\n",
              "    .colab-df-convert {\n",
              "      background-color: #E8F0FE;\n",
              "      border: none;\n",
              "      border-radius: 50%;\n",
              "      cursor: pointer;\n",
              "      display: none;\n",
              "      fill: #1967D2;\n",
              "      height: 32px;\n",
              "      padding: 0 0 0 0;\n",
              "      width: 32px;\n",
              "    }\n",
              "\n",
              "    .colab-df-convert:hover {\n",
              "      background-color: #E2EBFA;\n",
              "      box-shadow: 0px 1px 2px rgba(60, 64, 67, 0.3), 0px 1px 3px 1px rgba(60, 64, 67, 0.15);\n",
              "      fill: #174EA6;\n",
              "    }\n",
              "\n",
              "    [theme=dark] .colab-df-convert {\n",
              "      background-color: #3B4455;\n",
              "      fill: #D2E3FC;\n",
              "    }\n",
              "\n",
              "    [theme=dark] .colab-df-convert:hover {\n",
              "      background-color: #434B5C;\n",
              "      box-shadow: 0px 1px 3px 1px rgba(0, 0, 0, 0.15);\n",
              "      filter: drop-shadow(0px 1px 2px rgba(0, 0, 0, 0.3));\n",
              "      fill: #FFFFFF;\n",
              "    }\n",
              "  </style>\n",
              "\n",
              "      <script>\n",
              "        const buttonEl =\n",
              "          document.querySelector('#df-a942e4e1-a12d-4d8f-9605-bb26339e0b89 button.colab-df-convert');\n",
              "        buttonEl.style.display =\n",
              "          google.colab.kernel.accessAllowed ? 'block' : 'none';\n",
              "\n",
              "        async function convertToInteractive(key) {\n",
              "          const element = document.querySelector('#df-a942e4e1-a12d-4d8f-9605-bb26339e0b89');\n",
              "          const dataTable =\n",
              "            await google.colab.kernel.invokeFunction('convertToInteractive',\n",
              "                                                     [key], {});\n",
              "          if (!dataTable) return;\n",
              "\n",
              "          const docLinkHtml = 'Like what you see? Visit the ' +\n",
              "            '<a target=\"_blank\" href=https://colab.research.google.com/notebooks/data_table.ipynb>data table notebook</a>'\n",
              "            + ' to learn more about interactive tables.';\n",
              "          element.innerHTML = '';\n",
              "          dataTable['output_type'] = 'display_data';\n",
              "          await google.colab.output.renderOutput(dataTable, element);\n",
              "          const docLink = document.createElement('div');\n",
              "          docLink.innerHTML = docLinkHtml;\n",
              "          element.appendChild(docLink);\n",
              "        }\n",
              "      </script>\n",
              "    </div>\n",
              "  </div>\n",
              "  "
            ]
          },
          "metadata": {},
          "execution_count": 80
        }
      ]
    },
    {
      "cell_type": "code",
      "source": [
        "data=data.set_index('Muestra')"
      ],
      "metadata": {
        "id": "EtIGVU74J8zQ"
      },
      "execution_count": 93,
      "outputs": []
    },
    {
      "cell_type": "code",
      "source": [
        "data"
      ],
      "metadata": {
        "colab": {
          "base_uri": "https://localhost:8080/",
          "height": 455
        },
        "id": "8XIc4oftKMcz",
        "outputId": "88eb16a9-6d5a-47e6-fb4e-d89a0f99ff8f"
      },
      "execution_count": 94,
      "outputs": [
        {
          "output_type": "execute_result",
          "data": {
            "text/plain": [
              "         NS4b  NS2a     C     M     E   NS3   NS5  NS4a  NS2b   NS1\n",
              "Muestra                                                            \n",
              "NS1243   2.61  1.77  3.03  0.82  2.90  4.43  4.83  2.58  2.02  5.87\n",
              "NS1244   2.85  1.11  3.13  0.16  3.61  4.04  4.91  3.15  1.83  5.72\n",
              "NS1245   3.77  1.91  3.49  0.41  2.39  4.80  4.52  4.19  1.80  5.98\n",
              "NS1246   2.51  1.68  3.40  0.63  2.94  4.10  5.08  3.03  1.80  5.81\n",
              "NS1247   2.58  1.41  3.38  0.61  4.12  4.95  4.59  2.26  2.39  5.96\n",
              "...       ...   ...   ...   ...   ...   ...   ...   ...   ...   ...\n",
              "NS1370   4.03  1.91  3.34  0.83  3.47  4.87  5.52  4.38  2.41  5.61\n",
              "NS1371   4.36  1.52  3.49  0.30  4.21  4.40  4.91  3.26  1.70  5.71\n",
              "NS1372   4.02  1.44  3.13  0.38  2.38  4.76  5.10  2.95  1.68  5.92\n",
              "NS1373   2.32  1.17  3.04  0.66  3.94  4.46  5.13  3.46  1.87  5.62\n",
              "NS1374   3.25  1.09  3.01  0.39  3.14  4.97  4.54  3.62  2.01  5.71\n",
              "\n",
              "[132 rows x 10 columns]"
            ],
            "text/html": [
              "\n",
              "  <div id=\"df-23899477-81fa-4f15-bc56-5e3da677326e\">\n",
              "    <div class=\"colab-df-container\">\n",
              "      <div>\n",
              "<style scoped>\n",
              "    .dataframe tbody tr th:only-of-type {\n",
              "        vertical-align: middle;\n",
              "    }\n",
              "\n",
              "    .dataframe tbody tr th {\n",
              "        vertical-align: top;\n",
              "    }\n",
              "\n",
              "    .dataframe thead th {\n",
              "        text-align: right;\n",
              "    }\n",
              "</style>\n",
              "<table border=\"1\" class=\"dataframe\">\n",
              "  <thead>\n",
              "    <tr style=\"text-align: right;\">\n",
              "      <th></th>\n",
              "      <th>NS4b</th>\n",
              "      <th>NS2a</th>\n",
              "      <th>C</th>\n",
              "      <th>M</th>\n",
              "      <th>E</th>\n",
              "      <th>NS3</th>\n",
              "      <th>NS5</th>\n",
              "      <th>NS4a</th>\n",
              "      <th>NS2b</th>\n",
              "      <th>NS1</th>\n",
              "    </tr>\n",
              "    <tr>\n",
              "      <th>Muestra</th>\n",
              "      <th></th>\n",
              "      <th></th>\n",
              "      <th></th>\n",
              "      <th></th>\n",
              "      <th></th>\n",
              "      <th></th>\n",
              "      <th></th>\n",
              "      <th></th>\n",
              "      <th></th>\n",
              "      <th></th>\n",
              "    </tr>\n",
              "  </thead>\n",
              "  <tbody>\n",
              "    <tr>\n",
              "      <th>NS1243</th>\n",
              "      <td>2.61</td>\n",
              "      <td>1.77</td>\n",
              "      <td>3.03</td>\n",
              "      <td>0.82</td>\n",
              "      <td>2.90</td>\n",
              "      <td>4.43</td>\n",
              "      <td>4.83</td>\n",
              "      <td>2.58</td>\n",
              "      <td>2.02</td>\n",
              "      <td>5.87</td>\n",
              "    </tr>\n",
              "    <tr>\n",
              "      <th>NS1244</th>\n",
              "      <td>2.85</td>\n",
              "      <td>1.11</td>\n",
              "      <td>3.13</td>\n",
              "      <td>0.16</td>\n",
              "      <td>3.61</td>\n",
              "      <td>4.04</td>\n",
              "      <td>4.91</td>\n",
              "      <td>3.15</td>\n",
              "      <td>1.83</td>\n",
              "      <td>5.72</td>\n",
              "    </tr>\n",
              "    <tr>\n",
              "      <th>NS1245</th>\n",
              "      <td>3.77</td>\n",
              "      <td>1.91</td>\n",
              "      <td>3.49</td>\n",
              "      <td>0.41</td>\n",
              "      <td>2.39</td>\n",
              "      <td>4.80</td>\n",
              "      <td>4.52</td>\n",
              "      <td>4.19</td>\n",
              "      <td>1.80</td>\n",
              "      <td>5.98</td>\n",
              "    </tr>\n",
              "    <tr>\n",
              "      <th>NS1246</th>\n",
              "      <td>2.51</td>\n",
              "      <td>1.68</td>\n",
              "      <td>3.40</td>\n",
              "      <td>0.63</td>\n",
              "      <td>2.94</td>\n",
              "      <td>4.10</td>\n",
              "      <td>5.08</td>\n",
              "      <td>3.03</td>\n",
              "      <td>1.80</td>\n",
              "      <td>5.81</td>\n",
              "    </tr>\n",
              "    <tr>\n",
              "      <th>NS1247</th>\n",
              "      <td>2.58</td>\n",
              "      <td>1.41</td>\n",
              "      <td>3.38</td>\n",
              "      <td>0.61</td>\n",
              "      <td>4.12</td>\n",
              "      <td>4.95</td>\n",
              "      <td>4.59</td>\n",
              "      <td>2.26</td>\n",
              "      <td>2.39</td>\n",
              "      <td>5.96</td>\n",
              "    </tr>\n",
              "    <tr>\n",
              "      <th>...</th>\n",
              "      <td>...</td>\n",
              "      <td>...</td>\n",
              "      <td>...</td>\n",
              "      <td>...</td>\n",
              "      <td>...</td>\n",
              "      <td>...</td>\n",
              "      <td>...</td>\n",
              "      <td>...</td>\n",
              "      <td>...</td>\n",
              "      <td>...</td>\n",
              "    </tr>\n",
              "    <tr>\n",
              "      <th>NS1370</th>\n",
              "      <td>4.03</td>\n",
              "      <td>1.91</td>\n",
              "      <td>3.34</td>\n",
              "      <td>0.83</td>\n",
              "      <td>3.47</td>\n",
              "      <td>4.87</td>\n",
              "      <td>5.52</td>\n",
              "      <td>4.38</td>\n",
              "      <td>2.41</td>\n",
              "      <td>5.61</td>\n",
              "    </tr>\n",
              "    <tr>\n",
              "      <th>NS1371</th>\n",
              "      <td>4.36</td>\n",
              "      <td>1.52</td>\n",
              "      <td>3.49</td>\n",
              "      <td>0.30</td>\n",
              "      <td>4.21</td>\n",
              "      <td>4.40</td>\n",
              "      <td>4.91</td>\n",
              "      <td>3.26</td>\n",
              "      <td>1.70</td>\n",
              "      <td>5.71</td>\n",
              "    </tr>\n",
              "    <tr>\n",
              "      <th>NS1372</th>\n",
              "      <td>4.02</td>\n",
              "      <td>1.44</td>\n",
              "      <td>3.13</td>\n",
              "      <td>0.38</td>\n",
              "      <td>2.38</td>\n",
              "      <td>4.76</td>\n",
              "      <td>5.10</td>\n",
              "      <td>2.95</td>\n",
              "      <td>1.68</td>\n",
              "      <td>5.92</td>\n",
              "    </tr>\n",
              "    <tr>\n",
              "      <th>NS1373</th>\n",
              "      <td>2.32</td>\n",
              "      <td>1.17</td>\n",
              "      <td>3.04</td>\n",
              "      <td>0.66</td>\n",
              "      <td>3.94</td>\n",
              "      <td>4.46</td>\n",
              "      <td>5.13</td>\n",
              "      <td>3.46</td>\n",
              "      <td>1.87</td>\n",
              "      <td>5.62</td>\n",
              "    </tr>\n",
              "    <tr>\n",
              "      <th>NS1374</th>\n",
              "      <td>3.25</td>\n",
              "      <td>1.09</td>\n",
              "      <td>3.01</td>\n",
              "      <td>0.39</td>\n",
              "      <td>3.14</td>\n",
              "      <td>4.97</td>\n",
              "      <td>4.54</td>\n",
              "      <td>3.62</td>\n",
              "      <td>2.01</td>\n",
              "      <td>5.71</td>\n",
              "    </tr>\n",
              "  </tbody>\n",
              "</table>\n",
              "<p>132 rows × 10 columns</p>\n",
              "</div>\n",
              "      <button class=\"colab-df-convert\" onclick=\"convertToInteractive('df-23899477-81fa-4f15-bc56-5e3da677326e')\"\n",
              "              title=\"Convert this dataframe to an interactive table.\"\n",
              "              style=\"display:none;\">\n",
              "        \n",
              "  <svg xmlns=\"http://www.w3.org/2000/svg\" height=\"24px\"viewBox=\"0 0 24 24\"\n",
              "       width=\"24px\">\n",
              "    <path d=\"M0 0h24v24H0V0z\" fill=\"none\"/>\n",
              "    <path d=\"M18.56 5.44l.94 2.06.94-2.06 2.06-.94-2.06-.94-.94-2.06-.94 2.06-2.06.94zm-11 1L8.5 8.5l.94-2.06 2.06-.94-2.06-.94L8.5 2.5l-.94 2.06-2.06.94zm10 10l.94 2.06.94-2.06 2.06-.94-2.06-.94-.94-2.06-.94 2.06-2.06.94z\"/><path d=\"M17.41 7.96l-1.37-1.37c-.4-.4-.92-.59-1.43-.59-.52 0-1.04.2-1.43.59L10.3 9.45l-7.72 7.72c-.78.78-.78 2.05 0 2.83L4 21.41c.39.39.9.59 1.41.59.51 0 1.02-.2 1.41-.59l7.78-7.78 2.81-2.81c.8-.78.8-2.07 0-2.86zM5.41 20L4 18.59l7.72-7.72 1.47 1.35L5.41 20z\"/>\n",
              "  </svg>\n",
              "      </button>\n",
              "      \n",
              "  <style>\n",
              "    .colab-df-container {\n",
              "      display:flex;\n",
              "      flex-wrap:wrap;\n",
              "      gap: 12px;\n",
              "    }\n",
              "\n",
              "    .colab-df-convert {\n",
              "      background-color: #E8F0FE;\n",
              "      border: none;\n",
              "      border-radius: 50%;\n",
              "      cursor: pointer;\n",
              "      display: none;\n",
              "      fill: #1967D2;\n",
              "      height: 32px;\n",
              "      padding: 0 0 0 0;\n",
              "      width: 32px;\n",
              "    }\n",
              "\n",
              "    .colab-df-convert:hover {\n",
              "      background-color: #E2EBFA;\n",
              "      box-shadow: 0px 1px 2px rgba(60, 64, 67, 0.3), 0px 1px 3px 1px rgba(60, 64, 67, 0.15);\n",
              "      fill: #174EA6;\n",
              "    }\n",
              "\n",
              "    [theme=dark] .colab-df-convert {\n",
              "      background-color: #3B4455;\n",
              "      fill: #D2E3FC;\n",
              "    }\n",
              "\n",
              "    [theme=dark] .colab-df-convert:hover {\n",
              "      background-color: #434B5C;\n",
              "      box-shadow: 0px 1px 3px 1px rgba(0, 0, 0, 0.15);\n",
              "      filter: drop-shadow(0px 1px 2px rgba(0, 0, 0, 0.3));\n",
              "      fill: #FFFFFF;\n",
              "    }\n",
              "  </style>\n",
              "\n",
              "      <script>\n",
              "        const buttonEl =\n",
              "          document.querySelector('#df-23899477-81fa-4f15-bc56-5e3da677326e button.colab-df-convert');\n",
              "        buttonEl.style.display =\n",
              "          google.colab.kernel.accessAllowed ? 'block' : 'none';\n",
              "\n",
              "        async function convertToInteractive(key) {\n",
              "          const element = document.querySelector('#df-23899477-81fa-4f15-bc56-5e3da677326e');\n",
              "          const dataTable =\n",
              "            await google.colab.kernel.invokeFunction('convertToInteractive',\n",
              "                                                     [key], {});\n",
              "          if (!dataTable) return;\n",
              "\n",
              "          const docLinkHtml = 'Like what you see? Visit the ' +\n",
              "            '<a target=\"_blank\" href=https://colab.research.google.com/notebooks/data_table.ipynb>data table notebook</a>'\n",
              "            + ' to learn more about interactive tables.';\n",
              "          element.innerHTML = '';\n",
              "          dataTable['output_type'] = 'display_data';\n",
              "          await google.colab.output.renderOutput(dataTable, element);\n",
              "          const docLink = document.createElement('div');\n",
              "          docLink.innerHTML = docLinkHtml;\n",
              "          element.appendChild(docLink);\n",
              "        }\n",
              "      </script>\n",
              "    </div>\n",
              "  </div>\n",
              "  "
            ]
          },
          "metadata": {},
          "execution_count": 94
        }
      ]
    },
    {
      "cell_type": "code",
      "source": [
        "data[\"NS1\"].mean()"
      ],
      "metadata": {
        "colab": {
          "base_uri": "https://localhost:8080/"
        },
        "id": "-r1q68BI2JRg",
        "outputId": "85dd9f8e-c040-4006-f0c1-7e9c9190bb9a"
      },
      "execution_count": 82,
      "outputs": [
        {
          "output_type": "execute_result",
          "data": {
            "text/plain": [
              "5.7918939393939395"
            ]
          },
          "metadata": {},
          "execution_count": 82
        }
      ]
    },
    {
      "cell_type": "code",
      "source": [
        "!pip install seaborn"
      ],
      "metadata": {
        "id": "nNxrdJSTDq90",
        "colab": {
          "base_uri": "https://localhost:8080/"
        },
        "outputId": "06264816-b69b-45c5-d081-cd03880ba2ab"
      },
      "execution_count": 84,
      "outputs": [
        {
          "output_type": "stream",
          "name": "stdout",
          "text": [
            "Looking in indexes: https://pypi.org/simple, https://us-python.pkg.dev/colab-wheels/public/simple/\n",
            "Requirement already satisfied: seaborn in /usr/local/lib/python3.7/dist-packages (0.11.2)\n",
            "Requirement already satisfied: pandas>=0.23 in /usr/local/lib/python3.7/dist-packages (from seaborn) (1.3.5)\n",
            "Requirement already satisfied: scipy>=1.0 in /usr/local/lib/python3.7/dist-packages (from seaborn) (1.7.3)\n",
            "Requirement already satisfied: matplotlib>=2.2 in /usr/local/lib/python3.7/dist-packages (from seaborn) (3.2.2)\n",
            "Requirement already satisfied: numpy>=1.15 in /usr/local/lib/python3.7/dist-packages (from seaborn) (1.21.6)\n",
            "Requirement already satisfied: python-dateutil>=2.1 in /usr/local/lib/python3.7/dist-packages (from matplotlib>=2.2->seaborn) (2.8.2)\n",
            "Requirement already satisfied: kiwisolver>=1.0.1 in /usr/local/lib/python3.7/dist-packages (from matplotlib>=2.2->seaborn) (1.4.4)\n",
            "Requirement already satisfied: cycler>=0.10 in /usr/local/lib/python3.7/dist-packages (from matplotlib>=2.2->seaborn) (0.11.0)\n",
            "Requirement already satisfied: pyparsing!=2.0.4,!=2.1.2,!=2.1.6,>=2.0.1 in /usr/local/lib/python3.7/dist-packages (from matplotlib>=2.2->seaborn) (3.0.9)\n",
            "Requirement already satisfied: typing-extensions in /usr/local/lib/python3.7/dist-packages (from kiwisolver>=1.0.1->matplotlib>=2.2->seaborn) (4.1.1)\n",
            "Requirement already satisfied: pytz>=2017.3 in /usr/local/lib/python3.7/dist-packages (from pandas>=0.23->seaborn) (2022.5)\n",
            "Requirement already satisfied: six>=1.5 in /usr/local/lib/python3.7/dist-packages (from python-dateutil>=2.1->matplotlib>=2.2->seaborn) (1.15.0)\n"
          ]
        }
      ]
    },
    {
      "cell_type": "code",
      "source": [
        "import seaborn as sns\n",
        "p1 = sns.heatmap\n",
        "#colormap = sns.color_palette(\"red\")\n",
        "sns.heatmap(data,cmap=\"Reds\")\n"
      ],
      "metadata": {
        "colab": {
          "base_uri": "https://localhost:8080/",
          "height": 288
        },
        "id": "oiJr8xMjHDGB",
        "outputId": "7c80f874-594f-4c29-df6b-66d73b3f6ac3"
      },
      "execution_count": 102,
      "outputs": [
        {
          "output_type": "execute_result",
          "data": {
            "text/plain": [
              "<matplotlib.axes._subplots.AxesSubplot at 0x7f05988a3850>"
            ]
          },
          "metadata": {},
          "execution_count": 102
        },
        {
          "output_type": "display_data",
          "data": {
            "text/plain": [
              "<Figure size 432x288 with 2 Axes>"
            ],
            "image/png": "[encoded data removed]"
          },
          "metadata": {
            "needs_background": "light"
          }
        }
      ]
    },
    {
      "cell_type": "code",
      "source": [
        "import seaborn as sns\n",
        "import matplotlib.pyplot as plt\n",
        "\n",
        "sns.heatmap(data)\n",
        "plt.show()"
      ],
      "metadata": {
        "colab": {
          "base_uri": "https://localhost:8080/",
          "height": 378
        },
        "id": "-wvKqQsNJBTp",
        "outputId": "854d4c20-2991-4edc-fd1d-ffb6813d4ad1"
      },
      "execution_count": 91,
      "outputs": [
        {
          "output_type": "error",
          "ename": "ValueError",
          "evalue": "ignored",
          "traceback": [
            "\u001b[0;31m---------------------------------------------------------------------------\u001b[0m",
            "\u001b[0;31mValueError\u001b[0m                                Traceback (most recent call last)",
            "\u001b[0;32m<ipython-input-91-848968a41d71>\u001b[0m in \u001b[0;36m<module>\u001b[0;34m\u001b[0m\n\u001b[1;32m      2\u001b[0m \u001b[0;32mimport\u001b[0m \u001b[0mmatplotlib\u001b[0m\u001b[0;34m.\u001b[0m\u001b[0mpyplot\u001b[0m \u001b[0;32mas\u001b[0m \u001b[0mplt\u001b[0m\u001b[0;34m\u001b[0m\u001b[0;34m\u001b[0m\u001b[0m\n\u001b[1;32m      3\u001b[0m \u001b[0;34m\u001b[0m\u001b[0m\n\u001b[0;32m----> 4\u001b[0;31m \u001b[0msns\u001b[0m\u001b[0;34m.\u001b[0m\u001b[0mheatmap\u001b[0m\u001b[0;34m(\u001b[0m\u001b[0mdata\u001b[0m\u001b[0;34m)\u001b[0m\u001b[0;34m\u001b[0m\u001b[0;34m\u001b[0m\u001b[0m\n\u001b[0m\u001b[1;32m      5\u001b[0m \u001b[0mplt\u001b[0m\u001b[0;34m.\u001b[0m\u001b[0mshow\u001b[0m\u001b[0;34m(\u001b[0m\u001b[0;34m)\u001b[0m\u001b[0;34m\u001b[0m\u001b[0;34m\u001b[0m\u001b[0m\n",
            "\u001b[0;32m/usr/local/lib/python3.7/dist-packages/seaborn/_decorators.py\u001b[0m in \u001b[0;36minner_f\u001b[0;34m(*args, **kwargs)\u001b[0m\n\u001b[1;32m     44\u001b[0m             )\n\u001b[1;32m     45\u001b[0m         \u001b[0mkwargs\u001b[0m\u001b[0;34m.\u001b[0m\u001b[0mupdate\u001b[0m\u001b[0;34m(\u001b[0m\u001b[0;34m{\u001b[0m\u001b[0mk\u001b[0m\u001b[0;34m:\u001b[0m \u001b[0marg\u001b[0m \u001b[0;32mfor\u001b[0m \u001b[0mk\u001b[0m\u001b[0;34m,\u001b[0m \u001b[0marg\u001b[0m \u001b[0;32min\u001b[0m \u001b[0mzip\u001b[0m\u001b[0;34m(\u001b[0m\u001b[0msig\u001b[0m\u001b[0;34m.\u001b[0m\u001b[0mparameters\u001b[0m\u001b[0;34m,\u001b[0m \u001b[0margs\u001b[0m\u001b[0;34m)\u001b[0m\u001b[0;34m}\u001b[0m\u001b[0;34m)\u001b[0m\u001b[0;34m\u001b[0m\u001b[0;34m\u001b[0m\u001b[0m\n\u001b[0;32m---> 46\u001b[0;31m         \u001b[0;32mreturn\u001b[0m \u001b[0mf\u001b[0m\u001b[0;34m(\u001b[0m\u001b[0;34m**\u001b[0m\u001b[0mkwargs\u001b[0m\u001b[0;34m)\u001b[0m\u001b[0;34m\u001b[0m\u001b[0;34m\u001b[0m\u001b[0m\n\u001b[0m\u001b[1;32m     47\u001b[0m     \u001b[0;32mreturn\u001b[0m \u001b[0minner_f\u001b[0m\u001b[0;34m\u001b[0m\u001b[0;34m\u001b[0m\u001b[0m\n\u001b[1;32m     48\u001b[0m \u001b[0;34m\u001b[0m\u001b[0m\n",
            "\u001b[0;32m/usr/local/lib/python3.7/dist-packages/seaborn/matrix.py\u001b[0m in \u001b[0;36mheatmap\u001b[0;34m(data, vmin, vmax, cmap, center, robust, annot, fmt, annot_kws, linewidths, linecolor, cbar, cbar_kws, cbar_ax, square, xticklabels, yticklabels, mask, ax, **kwargs)\u001b[0m\n\u001b[1;32m    540\u001b[0m     plotter = _HeatMapper(data, vmin, vmax, cmap, center, robust, annot, fmt,\n\u001b[1;32m    541\u001b[0m                           \u001b[0mannot_kws\u001b[0m\u001b[0;34m,\u001b[0m \u001b[0mcbar\u001b[0m\u001b[0;34m,\u001b[0m \u001b[0mcbar_kws\u001b[0m\u001b[0;34m,\u001b[0m \u001b[0mxticklabels\u001b[0m\u001b[0;34m,\u001b[0m\u001b[0;34m\u001b[0m\u001b[0;34m\u001b[0m\u001b[0m\n\u001b[0;32m--> 542\u001b[0;31m                           yticklabels, mask)\n\u001b[0m\u001b[1;32m    543\u001b[0m \u001b[0;34m\u001b[0m\u001b[0m\n\u001b[1;32m    544\u001b[0m     \u001b[0;31m# Add the pcolormesh kwargs here\u001b[0m\u001b[0;34m\u001b[0m\u001b[0;34m\u001b[0m\u001b[0;34m\u001b[0m\u001b[0m\n",
            "\u001b[0;32m/usr/local/lib/python3.7/dist-packages/seaborn/matrix.py\u001b[0m in \u001b[0;36m__init__\u001b[0;34m(self, data, vmin, vmax, cmap, center, robust, annot, fmt, annot_kws, cbar, cbar_kws, xticklabels, yticklabels, mask)\u001b[0m\n\u001b[1;32m    158\u001b[0m         \u001b[0;31m# Determine good default values for the colormapping\u001b[0m\u001b[0;34m\u001b[0m\u001b[0;34m\u001b[0m\u001b[0;34m\u001b[0m\u001b[0m\n\u001b[1;32m    159\u001b[0m         self._determine_cmap_params(plot_data, vmin, vmax,\n\u001b[0;32m--> 160\u001b[0;31m                                     cmap, center, robust)\n\u001b[0m\u001b[1;32m    161\u001b[0m \u001b[0;34m\u001b[0m\u001b[0m\n\u001b[1;32m    162\u001b[0m         \u001b[0;31m# Sort out the annotations\u001b[0m\u001b[0;34m\u001b[0m\u001b[0;34m\u001b[0m\u001b[0;34m\u001b[0m\u001b[0m\n",
            "\u001b[0;32m/usr/local/lib/python3.7/dist-packages/seaborn/matrix.py\u001b[0m in \u001b[0;36m_determine_cmap_params\u001b[0;34m(self, plot_data, vmin, vmax, cmap, center, robust)\u001b[0m\n\u001b[1;32m    191\u001b[0m \u001b[0;34m\u001b[0m\u001b[0m\n\u001b[1;32m    192\u001b[0m         \u001b[0;31m# plot_data is a np.ma.array instance\u001b[0m\u001b[0;34m\u001b[0m\u001b[0;34m\u001b[0m\u001b[0;34m\u001b[0m\u001b[0m\n\u001b[0;32m--> 193\u001b[0;31m         \u001b[0mcalc_data\u001b[0m \u001b[0;34m=\u001b[0m \u001b[0mplot_data\u001b[0m\u001b[0;34m.\u001b[0m\u001b[0mastype\u001b[0m\u001b[0;34m(\u001b[0m\u001b[0mfloat\u001b[0m\u001b[0;34m)\u001b[0m\u001b[0;34m.\u001b[0m\u001b[0mfilled\u001b[0m\u001b[0;34m(\u001b[0m\u001b[0mnp\u001b[0m\u001b[0;34m.\u001b[0m\u001b[0mnan\u001b[0m\u001b[0;34m)\u001b[0m\u001b[0;34m\u001b[0m\u001b[0;34m\u001b[0m\u001b[0m\n\u001b[0m\u001b[1;32m    194\u001b[0m         \u001b[0;32mif\u001b[0m \u001b[0mvmin\u001b[0m \u001b[0;32mis\u001b[0m \u001b[0;32mNone\u001b[0m\u001b[0;34m:\u001b[0m\u001b[0;34m\u001b[0m\u001b[0;34m\u001b[0m\u001b[0m\n\u001b[1;32m    195\u001b[0m             \u001b[0;32mif\u001b[0m \u001b[0mrobust\u001b[0m\u001b[0;34m:\u001b[0m\u001b[0;34m\u001b[0m\u001b[0;34m\u001b[0m\u001b[0m\n",
            "\u001b[0;31mValueError\u001b[0m: could not convert string to float: 'NS1243'"
          ]
        }
      ]
    }
  ]
}