{
  "nbformat": 4,
  "nbformat_minor": 0,
  "metadata": {
    "colab": {
      "provenance": []
    },
    "kernelspec": {
      "name": "python3",
      "display_name": "Python 3"
    },
    "language_info": {
      "name": "python"
    }
  },
  "cells": [
    {
      "cell_type": "markdown",
      "source": [
        "# PROCESAMIENTO Y PRESENTACION DE DATOS CON PYTHON\n",
        "\n",
        "---\n",
        "\n",
        "\n",
        "\n",
        "---\n",
        "\n",
        "\n",
        "## Lic. Felipe Rodriguez Gaxiola "
      ],
      "metadata": {
        "id": "iCleWRh53-PS"
      }
    },
    {
      "cell_type": "code",
      "source": [
        "\n"
      ],
      "metadata": {
        "id": "_rZFNtEk8XAW"
      },
      "execution_count": 1,
      "outputs": []
    },
    {
      "cell_type": "markdown",
      "source": [
        "##**Tipo de datos**"
      ],
      "metadata": {
        "id": "wcvsRT2qf3YB"
      }
    },
    {
      "cell_type": "code",
      "source": [
        "#Enteros\n",
        "Juan = 591  \n",
        "Pablo= 273\n",
        "\n",
        "#flotantes (decimales)\n",
        "Maria= 312.543\n",
        "\n",
        "#datos string o de cadena caracteres\n",
        "texto= 'Hola CID '\n",
        "\n",
        "Cochinito= '1259.34'\n",
        "\n",
        "##Pistas##\n",
        "#redifinir variables\n",
        "#usar funcion type()\n",
        "\n"
      ],
      "metadata": {
        "id": "ND41E3Zk9rjU"
      },
      "execution_count": 5,
      "outputs": []
    },
    {
      "cell_type": "code",
      "source": [
        "##RESTAR (JUAN LE DEBE $ 35,34 Y LE TIENE QUE PAGAR )\n",
        "\n"
      ],
      "metadata": {
        "id": "Mo6ZQsMmg6Lz"
      },
      "execution_count": null,
      "outputs": []
    },
    {
      "cell_type": "code",
      "source": [
        "## SUMAR (Juan y Pablo colocan todos sus ahorros en el cochito )\n"
      ],
      "metadata": {
        "id": "IlnoRYjogo2A"
      },
      "execution_count": null,
      "outputs": []
    },
    {
      "cell_type": "code",
      "source": [
        "#Porcentaje (cuanto tendria el cochito si cada uno de ellos hubiera donado el 47.6% de sus ahorros en el cochito )\n"
      ],
      "metadata": {
        "id": "xMPeQ_N8hAcl"
      },
      "execution_count": null,
      "outputs": []
    },
    {
      "cell_type": "code",
      "source": [
        "#Cuanto dinero tendria Juan, pablo y Maria  si juntaran sus ahorros dividieran el dinero equitativamente?\n",
        "\n"
      ],
      "metadata": {
        "id": "Xb27BGYSiFUT"
      },
      "execution_count": null,
      "outputs": []
    },
    {
      "cell_type": "markdown",
      "source": [
        "##LISTAS Y TUPLAS\n"
      ],
      "metadata": {
        "id": "DnBgxVGXkvaa"
      }
    },
    {
      "cell_type": "code",
      "source": [
        "calificaciones = [10,9,8,7.5,9]\n",
        "nombres = [\"Ana\",\"Juan\",\"Sofía\",\"Pablo\",\"Tania\"]"
      ],
      "metadata": {
        "id": "oDxwWE67lCej"
      },
      "execution_count": 32,
      "outputs": []
    },
    {
      "cell_type": "code",
      "source": [
        "#Agregar\n",
        "nombres.append(\"Ximena\")\n",
        "\n",
        "#Agregar calificacion 7 a Ximena\n",
        "\n",
        "\n",
        "\n",
        "\n",
        "print(calificaciones,nombres)"
      ],
      "metadata": {
        "colab": {
          "base_uri": "https://localhost:8080/"
        },
        "id": "TzatrhYklWN-",
        "outputId": "31b7d797-3d29-44ad-8f57-1768acaab7cf"
      },
      "execution_count": 33,
      "outputs": [
        {
          "output_type": "stream",
          "name": "stdout",
          "text": [
            "[10, 9, 8, 7.5, 9] ['Ana', 'Juan', 'Sofía', 'Pablo', 'Tania', 'Ximena']\n"
          ]
        }
      ]
    },
    {
      "cell_type": "code",
      "source": [],
      "metadata": {
        "id": "X6vhCJYutWpy"
      },
      "execution_count": null,
      "outputs": []
    },
    {
      "cell_type": "code",
      "source": [
        "#OBTENER CALIFICACION DE Pablo\n",
        "indice=nombres.index('Pablo')\n",
        "#calificacion_juan=calificaciones[indice]\n",
        "#calificacion_juan"
      ],
      "metadata": {
        "id": "kzvANUcctW8q"
      },
      "execution_count": null,
      "outputs": []
    },
    {
      "cell_type": "code",
      "source": [
        "indice=nombres.index('Ximena')\n",
        "calificacion=calificaciones[indice]\n",
        "calificacion_juan"
      ],
      "metadata": {
        "colab": {
          "base_uri": "https://localhost:8080/"
        },
        "id": "hIvX1y7Vlalk",
        "outputId": "7afbaf54-7949-4c01-b044-950cb99bad59"
      },
      "execution_count": 24,
      "outputs": [
        {
          "output_type": "execute_result",
          "data": {
            "text/plain": [
              "10"
            ]
          },
          "metadata": {},
          "execution_count": 24
        }
      ]
    },
    {
      "cell_type": "code",
      "source": [
        "#obtener calificacion sofia\n",
        "\n"
      ],
      "metadata": {
        "id": "l1N9QyYOlbBB"
      },
      "execution_count": null,
      "outputs": []
    },
    {
      "cell_type": "code",
      "source": [
        "#Acabas de incluirte al grupo , la profe te reprobo , Hackea su lista y ponte la calificacion que te \"mereces\", (cualquier solucion es valida, ponte creativo) \n",
        "\n",
        "\n",
        "\n",
        "\n",
        "\n",
        "\n",
        "\n"
      ],
      "metadata": {
        "id": "OoLGQD-iuMVG"
      },
      "execution_count": null,
      "outputs": []
    },
    {
      "cell_type": "markdown",
      "source": [
        "##**Tuplas**"
      ],
      "metadata": {
        "id": "S91_2haMt194"
      }
    },
    {
      "cell_type": "code",
      "source": [],
      "metadata": {
        "id": "h7E8qK1pt9w7"
      },
      "execution_count": null,
      "outputs": []
    },
    {
      "cell_type": "code",
      "source": [
        "calificaciones = (5,5,5,5.5,5)\n",
        "nombres = [\"Ana\",\"Juan\",\"Sofía\",\"Pablo\",\"Tania\"]"
      ],
      "metadata": {
        "id": "pGtTu2eOuLR8"
      },
      "execution_count": 39,
      "outputs": []
    },
    {
      "cell_type": "code",
      "source": [
        "#El profe soy yo y reprobe a todos, intenta salvar a todos \n",
        "\n"
      ],
      "metadata": {
        "id": "61MuK8PBt1fi"
      },
      "execution_count": 42,
      "outputs": []
    },
    {
      "cell_type": "markdown",
      "source": [],
      "metadata": {
        "id": "5JFGwC7Sx4FP"
      }
    },
    {
      "cell_type": "markdown",
      "source": [
        "##**Visualisacion de archivos**"
      ],
      "metadata": {
        "id": "SAX8m8rUdMIH"
      }
    },
    {
      "cell_type": "markdown",
      "source": [
        "# **Cargar librerias**\n",
        "\n",
        "\n"
      ],
      "metadata": {
        "id": "rU7QvxMq9-jo"
      }
    },
    {
      "cell_type": "code",
      "source": [
        "##Importar datos \n",
        "#Dirigete al siguiente link y descarga el repositorio \n",
        "#cargue el archivo dengue en google colab\n",
        "import pandas as pd\n",
        "data = pd.read_csv(\"./Dengue.tsv\")\n",
        "data\n"
      ],
      "metadata": {
        "colab": {
          "base_uri": "https://localhost:8080/",
          "height": 423
        },
        "id": "rCuYDMjcdMIU",
        "outputId": "b989ab3f-a5a3-4576-d5b2-ddf76d7c615a"
      },
      "execution_count": 70,
      "outputs": [
        {
          "output_type": "execute_result",
          "data": {
            "text/plain": [
              "      IEDB_ID Epitope_Sequence Protein_Names   Host  Dengue_type  \\\n",
              "0        1063        AELTGYGTV             C  Human            2   \n",
              "1      195230  DYMPVMKRYSAPSES             C  Human            3   \n",
              "2      195476  IDLDPVVYDAKFEKQ             C  Human            3   \n",
              "3      195499  ILAKAIFKLTYQNKV             C  Human            3   \n",
              "4      195501  ILIRTGLLVISGVFP             C  Human            2   \n",
              "...       ...              ...           ...    ...          ...   \n",
              "2149   867025  GVFQENVFHTMWHVT           NS5  Human            4   \n",
              "2150   540064  VNGVVRLLTKPWDVI           NS5  Human            4   \n",
              "2151   180806       VSSVNMVSRL           NS5  Human            4   \n",
              "2152   419048       SPRLCTREEF           NS5  Human            4   \n",
              "2153   869083  SYAQMWTLMYFHRRD           NS5  Human            4   \n",
              "\n",
              "     Assay_Type_Category  Antigenicity  \n",
              "0            MHC_Binding          3.35  \n",
              "1            MHC_Binding          3.40  \n",
              "2            MHC_Binding          3.41  \n",
              "3            MHC_Binding          3.16  \n",
              "4            MHC_Binding          3.46  \n",
              "...                  ...           ...  \n",
              "2149              T_Cell          4.53  \n",
              "2150              T_Cell          4.55  \n",
              "2151              T_Cell          4.71  \n",
              "2152              T_Cell          5.02  \n",
              "2153              T_Cell          5.34  \n",
              "\n",
              "[2154 rows x 7 columns]"
            ],
            "text/html": [
              "\n",
              "  <div id=\"df-19742025-d062-422f-8117-ed7a8808cd44\">\n",
              "    <div class=\"colab-df-container\">\n",
              "      <div>\n",
              "<style scoped>\n",
              "    .dataframe tbody tr th:only-of-type {\n",
              "        vertical-align: middle;\n",
              "    }\n",
              "\n",
              "    .dataframe tbody tr th {\n",
              "        vertical-align: top;\n",
              "    }\n",
              "\n",
              "    .dataframe thead th {\n",
              "        text-align: right;\n",
              "    }\n",
              "</style>\n",
              "<table border=\"1\" class=\"dataframe\">\n",
              "  <thead>\n",
              "    <tr style=\"text-align: right;\">\n",
              "      <th></th>\n",
              "      <th>IEDB_ID</th>\n",
              "      <th>Epitope_Sequence</th>\n",
              "      <th>Protein_Names</th>\n",
              "      <th>Host</th>\n",
              "      <th>Dengue_type</th>\n",
              "      <th>Assay_Type_Category</th>\n",
              "      <th>Antigenicity</th>\n",
              "    </tr>\n",
              "  </thead>\n",
              "  <tbody>\n",
              "    <tr>\n",
              "      <th>0</th>\n",
              "      <td>1063</td>\n",
              "      <td>AELTGYGTV</td>\n",
              "      <td>C</td>\n",
              "      <td>Human</td>\n",
              "      <td>2</td>\n",
              "      <td>MHC_Binding</td>\n",
              "      <td>3.35</td>\n",
              "    </tr>\n",
              "    <tr>\n",
              "      <th>1</th>\n",
              "      <td>195230</td>\n",
              "      <td>DYMPVMKRYSAPSES</td>\n",
              "      <td>C</td>\n",
              "      <td>Human</td>\n",
              "      <td>3</td>\n",
              "      <td>MHC_Binding</td>\n",
              "      <td>3.40</td>\n",
              "    </tr>\n",
              "    <tr>\n",
              "      <th>2</th>\n",
              "      <td>195476</td>\n",
              "      <td>IDLDPVVYDAKFEKQ</td>\n",
              "      <td>C</td>\n",
              "      <td>Human</td>\n",
              "      <td>3</td>\n",
              "      <td>MHC_Binding</td>\n",
              "      <td>3.41</td>\n",
              "    </tr>\n",
              "    <tr>\n",
              "      <th>3</th>\n",
              "      <td>195499</td>\n",
              "      <td>ILAKAIFKLTYQNKV</td>\n",
              "      <td>C</td>\n",
              "      <td>Human</td>\n",
              "      <td>3</td>\n",
              "      <td>MHC_Binding</td>\n",
              "      <td>3.16</td>\n",
              "    </tr>\n",
              "    <tr>\n",
              "      <th>4</th>\n",
              "      <td>195501</td>\n",
              "      <td>ILIRTGLLVISGVFP</td>\n",
              "      <td>C</td>\n",
              "      <td>Human</td>\n",
              "      <td>2</td>\n",
              "      <td>MHC_Binding</td>\n",
              "      <td>3.46</td>\n",
              "    </tr>\n",
              "    <tr>\n",
              "      <th>...</th>\n",
              "      <td>...</td>\n",
              "      <td>...</td>\n",
              "      <td>...</td>\n",
              "      <td>...</td>\n",
              "      <td>...</td>\n",
              "      <td>...</td>\n",
              "      <td>...</td>\n",
              "    </tr>\n",
              "    <tr>\n",
              "      <th>2149</th>\n",
              "      <td>867025</td>\n",
              "      <td>GVFQENVFHTMWHVT</td>\n",
              "      <td>NS5</td>\n",
              "      <td>Human</td>\n",
              "      <td>4</td>\n",
              "      <td>T_Cell</td>\n",
              "      <td>4.53</td>\n",
              "    </tr>\n",
              "    <tr>\n",
              "      <th>2150</th>\n",
              "      <td>540064</td>\n",
              "      <td>VNGVVRLLTKPWDVI</td>\n",
              "      <td>NS5</td>\n",
              "      <td>Human</td>\n",
              "      <td>4</td>\n",
              "      <td>T_Cell</td>\n",
              "      <td>4.55</td>\n",
              "    </tr>\n",
              "    <tr>\n",
              "      <th>2151</th>\n",
              "      <td>180806</td>\n",
              "      <td>VSSVNMVSRL</td>\n",
              "      <td>NS5</td>\n",
              "      <td>Human</td>\n",
              "      <td>4</td>\n",
              "      <td>T_Cell</td>\n",
              "      <td>4.71</td>\n",
              "    </tr>\n",
              "    <tr>\n",
              "      <th>2152</th>\n",
              "      <td>419048</td>\n",
              "      <td>SPRLCTREEF</td>\n",
              "      <td>NS5</td>\n",
              "      <td>Human</td>\n",
              "      <td>4</td>\n",
              "      <td>T_Cell</td>\n",
              "      <td>5.02</td>\n",
              "    </tr>\n",
              "    <tr>\n",
              "      <th>2153</th>\n",
              "      <td>869083</td>\n",
              "      <td>SYAQMWTLMYFHRRD</td>\n",
              "      <td>NS5</td>\n",
              "      <td>Human</td>\n",
              "      <td>4</td>\n",
              "      <td>T_Cell</td>\n",
              "      <td>5.34</td>\n",
              "    </tr>\n",
              "  </tbody>\n",
              "</table>\n",
              "<p>2154 rows × 7 columns</p>\n",
              "</div>\n",
              "      <button class=\"colab-df-convert\" onclick=\"convertToInteractive('df-19742025-d062-422f-8117-ed7a8808cd44')\"\n",
              "              title=\"Convert this dataframe to an interactive table.\"\n",
              "              style=\"display:none;\">\n",
              "        \n",
              "  <svg xmlns=\"http://www.w3.org/2000/svg\" height=\"24px\"viewBox=\"0 0 24 24\"\n",
              "       width=\"24px\">\n",
              "    <path d=\"M0 0h24v24H0V0z\" fill=\"none\"/>\n",
              "    <path d=\"M18.56 5.44l.94 2.06.94-2.06 2.06-.94-2.06-.94-.94-2.06-.94 2.06-2.06.94zm-11 1L8.5 8.5l.94-2.06 2.06-.94-2.06-.94L8.5 2.5l-.94 2.06-2.06.94zm10 10l.94 2.06.94-2.06 2.06-.94-2.06-.94-.94-2.06-.94 2.06-2.06.94z\"/><path d=\"M17.41 7.96l-1.37-1.37c-.4-.4-.92-.59-1.43-.59-.52 0-1.04.2-1.43.59L10.3 9.45l-7.72 7.72c-.78.78-.78 2.05 0 2.83L4 21.41c.39.39.9.59 1.41.59.51 0 1.02-.2 1.41-.59l7.78-7.78 2.81-2.81c.8-.78.8-2.07 0-2.86zM5.41 20L4 18.59l7.72-7.72 1.47 1.35L5.41 20z\"/>\n",
              "  </svg>\n",
              "      </button>\n",
              "      \n",
              "  <style>\n",
              "    .colab-df-container {\n",
              "      display:flex;\n",
              "      flex-wrap:wrap;\n",
              "      gap: 12px;\n",
              "    }\n",
              "\n",
              "    .colab-df-convert {\n",
              "      background-color: #E8F0FE;\n",
              "      border: none;\n",
              "      border-radius: 50%;\n",
              "      cursor: pointer;\n",
              "      display: none;\n",
              "      fill: #1967D2;\n",
              "      height: 32px;\n",
              "      padding: 0 0 0 0;\n",
              "      width: 32px;\n",
              "    }\n",
              "\n",
              "    .colab-df-convert:hover {\n",
              "      background-color: #E2EBFA;\n",
              "      box-shadow: 0px 1px 2px rgba(60, 64, 67, 0.3), 0px 1px 3px 1px rgba(60, 64, 67, 0.15);\n",
              "      fill: #174EA6;\n",
              "    }\n",
              "\n",
              "    [theme=dark] .colab-df-convert {\n",
              "      background-color: #3B4455;\n",
              "      fill: #D2E3FC;\n",
              "    }\n",
              "\n",
              "    [theme=dark] .colab-df-convert:hover {\n",
              "      background-color: #434B5C;\n",
              "      box-shadow: 0px 1px 3px 1px rgba(0, 0, 0, 0.15);\n",
              "      filter: drop-shadow(0px 1px 2px rgba(0, 0, 0, 0.3));\n",
              "      fill: #FFFFFF;\n",
              "    }\n",
              "  </style>\n",
              "\n",
              "      <script>\n",
              "        const buttonEl =\n",
              "          document.querySelector('#df-19742025-d062-422f-8117-ed7a8808cd44 button.colab-df-convert');\n",
              "        buttonEl.style.display =\n",
              "          google.colab.kernel.accessAllowed ? 'block' : 'none';\n",
              "\n",
              "        async function convertToInteractive(key) {\n",
              "          const element = document.querySelector('#df-19742025-d062-422f-8117-ed7a8808cd44');\n",
              "          const dataTable =\n",
              "            await google.colab.kernel.invokeFunction('convertToInteractive',\n",
              "                                                     [key], {});\n",
              "          if (!dataTable) return;\n",
              "\n",
              "          const docLinkHtml = 'Like what you see? Visit the ' +\n",
              "            '<a target=\"_blank\" href=https://colab.research.google.com/notebooks/data_table.ipynb>data table notebook</a>'\n",
              "            + ' to learn more about interactive tables.';\n",
              "          element.innerHTML = '';\n",
              "          dataTable['output_type'] = 'display_data';\n",
              "          await google.colab.output.renderOutput(dataTable, element);\n",
              "          const docLink = document.createElement('div');\n",
              "          docLink.innerHTML = docLinkHtml;\n",
              "          element.appendChild(docLink);\n",
              "        }\n",
              "      </script>\n",
              "    </div>\n",
              "  </div>\n",
              "  "
            ]
          },
          "metadata": {},
          "execution_count": 70
        }
      ]
    },
    {
      "cell_type": "markdown",
      "source": [
        "##**Tipos de archivos**"
      ],
      "metadata": {
        "id": "w72S_uCeeojy"
      }
    },
    {
      "cell_type": "code",
      "source": [
        "#import datos con definiendo delimitador\n",
        "import pandas as ps\n",
        "data = pd.read_csv(\"./Dengue.csv\", delimiter= ':')\n",
        "\n",
        "da"
      ],
      "metadata": {
        "id": "0D_KLcaXeKAs"
      },
      "execution_count": null,
      "outputs": []
    },
    {
      "cell_type": "markdown",
      "source": [
        "##TABLAS Y DATAFRAMES"
      ],
      "metadata": {
        "id": "urEvAXrb44rC"
      }
    },
    {
      "cell_type": "markdown",
      "source": [
        "# Analisis data basico\n"
      ],
      "metadata": {
        "id": "OEMRTsM5GSA8"
      }
    },
    {
      "cell_type": "code",
      "source": [
        "data"
      ],
      "metadata": {
        "id": "41Oxteg_3ClF"
      },
      "execution_count": null,
      "outputs": []
    },
    {
      "cell_type": "code",
      "source": [
        "#Dimensiones \n",
        "\n",
        "data.shape"
      ],
      "metadata": {
        "id": "KATOVPJ_2Jeb"
      },
      "execution_count": null,
      "outputs": []
    },
    {
      "cell_type": "code",
      "source": [
        "#Imprime la columna Antigenicit\n",
        "data['Antigenicity']\n"
      ],
      "metadata": {
        "id": "HChLFzul2Jch"
      },
      "execution_count": null,
      "outputs": []
    },
    {
      "cell_type": "code",
      "source": [
        "#imprime el tercer numero de la columna antigenicidad\n",
        "data['Antigenicty'][]\n"
      ],
      "metadata": {
        "id": "okzEfNsP5_gh"
      },
      "execution_count": null,
      "outputs": []
    },
    {
      "cell_type": "code",
      "source": [
        "#imprime el ultimo numero de la columna antigenicidad\n",
        "data['Antigenicity'][]\n",
        "\n",
        "\n",
        "\n",
        "\n",
        "#soluciona este error con las funciones anteriormentes presetnadas y mencionalo al grupo \n",
        "\n",
        "#iloc[[1]]"
      ],
      "metadata": {
        "id": "6gt-DLxL5_c3"
      },
      "execution_count": null,
      "outputs": []
    },
    {
      "cell_type": "code",
      "source": [
        "\n"
      ],
      "metadata": {
        "id": "3lFgtF_L6VTy"
      },
      "execution_count": null,
      "outputs": []
    },
    {
      "cell_type": "code",
      "source": [
        "#promedio \n",
        "data[\"Antigenicity\"].mean()"
      ],
      "metadata": {
        "colab": {
          "base_uri": "https://localhost:8080/"
        },
        "id": "e6oOXvqS6VBH",
        "outputId": "82795222-35a8-4195-86ed-2d1726b7f299"
      },
      "execution_count": 72,
      "outputs": [
        {
          "output_type": "execute_result",
          "data": {
            "text/plain": [
              "3.3445821727019496"
            ]
          },
          "metadata": {},
          "execution_count": 72
        }
      ]
    },
    {
      "cell_type": "code",
      "source": [
        "#maximo \n",
        "data[\"Antigenicity\"].max()"
      ],
      "metadata": {
        "colab": {
          "base_uri": "https://localhost:8080/"
        },
        "id": "xi4eFFmD2Jab",
        "outputId": "a148af2b-6c7c-4fe9-8832-c79a3bd0c796"
      },
      "execution_count": 75,
      "outputs": [
        {
          "output_type": "execute_result",
          "data": {
            "text/plain": [
              "6.0"
            ]
          },
          "metadata": {},
          "execution_count": 75
        }
      ]
    },
    {
      "cell_type": "code",
      "source": [
        "#minimo\n",
        "data[\"Antigenicity\"].max()"
      ],
      "metadata": {
        "id": "zAXtSxUT2JYY"
      },
      "execution_count": null,
      "outputs": []
    },
    {
      "cell_type": "code",
      "source": [
        "data.describe()"
      ],
      "metadata": {
        "id": "W3dofynz2JWH"
      },
      "execution_count": null,
      "outputs": []
    },
    {
      "cell_type": "markdown",
      "source": [
        "##**Ejercicio**"
      ],
      "metadata": {
        "id": "KEmCdbw8Ea8h"
      }
    },
    {
      "cell_type": "markdown",
      "source": [
        "Carga el archivo de antigenicidad.csv, con las funciones anteriormente mencionadas y decifra cual es el top 3 proteinas mas antigenicas y el top 3 menos antigenicas\n",
        "\n",
        "Mucha suerte :)\n"
      ],
      "metadata": {
        "id": "S9D5SCTWEfpt"
      }
    },
    {
      "cell_type": "code",
      "source": [
        "\n",
        "import pandas as pd\n",
        "data = pd.read_csv(\"./antigenicidad.tsv\")\n",
        "data\n",
        "\n"
      ],
      "metadata": {
        "id": "J-Tti0FP2JT4"
      },
      "execution_count": null,
      "outputs": []
    },
    {
      "cell_type": "code",
      "source": [
        "data=data.set_index('Muestra')"
      ],
      "metadata": {
        "id": "EtIGVU74J8zQ"
      },
      "execution_count": 93,
      "outputs": []
    },
    {
      "cell_type": "code",
      "source": [
        "data"
      ],
      "metadata": {
        "id": "8XIc4oftKMcz"
      },
      "execution_count": null,
      "outputs": []
    },
    {
      "cell_type": "code",
      "source": [
        "data[\"NS1\"].mean()"
      ],
      "metadata": {
        "colab": {
          "base_uri": "https://localhost:8080/"
        },
        "id": "-r1q68BI2JRg",
        "outputId": "85dd9f8e-c040-4006-f0c1-7e9c9190bb9a"
      },
      "execution_count": 82,
      "outputs": [
        {
          "output_type": "execute_result",
          "data": {
            "text/plain": [
              "5.7918939393939395"
            ]
          },
          "metadata": {},
          "execution_count": 82
        }
      ]
    },
    {
      "cell_type": "code",
      "source": [
        "!pip install seaborn"
      ],
      "metadata": {
        "id": "nNxrdJSTDq90"
      },
      "execution_count": null,
      "outputs": []
    },
    {
      "cell_type": "code",
      "source": [
        "import seaborn as sns\n",
        "p1 = sns.heatmap\n",
        "#colormap = sns.color_palette(\"red\")\n",
        "sns.heatmap(data,cmap=\"Reds\")\n"
      ],
      "metadata": {
        "id": "oiJr8xMjHDGB"
      },
      "execution_count": null,
      "outputs": []
    }
  ]
}